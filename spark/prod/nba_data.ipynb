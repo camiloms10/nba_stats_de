{
 "cells": [
  {
   "cell_type": "code",
   "execution_count": 1,
   "id": "5afcb94f-65fd-4b5f-953f-8b4c9a9dbfbe",
   "metadata": {},
   "outputs": [
    {
     "name": "stderr",
     "output_type": "stream",
     "text": [
      "/home/camiloms/spark/spark-3.3.3-bin-hadoop3/python/pyspark/pandas/__init__.py:49: UserWarning: 'PYARROW_IGNORE_TIMEZONE' environment variable was not set. It is required to set this environment variable to '1' in both driver and executor sides if you use pyarrow>=2.0.0. pandas-on-Spark will set it for you but it does not work if there is a Spark context already launched.\n",
      "  warnings.warn(\n"
     ]
    }
   ],
   "source": [
    "import pyspark\n",
    "from pyspark.sql import SparkSession, types\n",
    "from pyspark.conf import SparkConf\n",
    "from pyspark.context import SparkContext\n",
    "from pyspark.sql import functions as F\n",
    "from pyspark.sql.types import StructType, IntegerType, DateType, StructField, StringType, TimestampType\n",
    "import pyspark.pandas as ps\n",
    "import logging, traceback\n",
    "import requests\n",
    "import sys\n",
    "import pandas as pd\n",
    "from datetime import datetime, date\n",
    "from dateutil.relativedelta import relativedelta\n",
    "from dateutil.parser import parse"
   ]
  },
  {
   "cell_type": "code",
   "execution_count": 2,
   "id": "b22ab3e7-0bd8-43c4-a90e-65975bac8ad3",
   "metadata": {},
   "outputs": [],
   "source": [
    "# This is to create a Local Cluster \n",
    "#spark = SparkSession.builder \\\n",
    "#        .master(\"spark://LAPTOP-C9HBU13M.:7077\") \\\n",
    "#        .appName('test') \\\n",
    "#        .getOrCreate()"
   ]
  },
  {
   "cell_type": "code",
   "execution_count": 3,
   "id": "287c4d28-d7a9-412e-8273-14d70e4a40e3",
   "metadata": {},
   "outputs": [],
   "source": [
    "#Spark version testing for Local Cluster\n",
    "\n",
    "#spark"
   ]
  },
  {
   "cell_type": "code",
   "execution_count": 4,
   "id": "3dead5e3-6303-47cc-9edc-bd5fb97b5cb6",
   "metadata": {},
   "outputs": [
    {
     "data": {
      "text/plain": [
       "'/home/camiloms/spark/spark-3.3.3-bin-hadoop3/python/pyspark/__init__.py'"
      ]
     },
     "execution_count": 4,
     "metadata": {},
     "output_type": "execute_result"
    }
   ],
   "source": [
    "pyspark.__file__"
   ]
  },
  {
   "cell_type": "code",
   "execution_count": 5,
   "id": "db834a7a-03eb-4db3-923c-310e88de9e4a",
   "metadata": {},
   "outputs": [],
   "source": [
    "credentials_json ='/home/camiloms/nba_stats_de/airflow/.google/credentials/google_credentials.json'\n",
    "\n",
    "conf = SparkConf() \\\n",
    "    .setMaster('local[*]') \\\n",
    "    .setAppName('test') \\\n",
    "    .set(\"spark.jars\", \"./lib/gcs-connector-hadoop3-2.2.5.jar\") \\\n",
    "    .set(\"spark.hadoop.google.cloud.auth.service.account.enable\", \"true\") \\\n",
    "    .set(\"spark.hadoop.google.cloud.auth.service.account.json.keyfile\",credentials_json)"
   ]
  },
  {
   "cell_type": "code",
   "execution_count": 6,
   "id": "8a400ebf-02d9-45bf-8ad1-44b6115e7087",
   "metadata": {},
   "outputs": [
    {
     "name": "stdout",
     "output_type": "stream",
     "text": [
      "23/09/08 16:39:27 WARN Utils: Your hostname, LAPTOP-C9HBU13M resolves to a loopback address: 127.0.1.1; using 172.21.82.95 instead (on interface eth0)\n",
      "23/09/08 16:39:27 WARN Utils: Set SPARK_LOCAL_IP if you need to bind to another address\n",
      "23/09/08 16:39:30 WARN NativeCodeLoader: Unable to load native-hadoop library for your platform... using builtin-java classes where applicable\n"
     ]
    },
    {
     "name": "stderr",
     "output_type": "stream",
     "text": [
      "Setting default log level to \"WARN\".\n",
      "To adjust logging level use sc.setLogLevel(newLevel). For SparkR, use setLogLevel(newLevel).\n"
     ]
    },
    {
     "name": "stdout",
     "output_type": "stream",
     "text": [
      "23/09/08 16:39:35 WARN Utils: Service 'SparkUI' could not bind on port 4040. Attempting port 4041.\n"
     ]
    }
   ],
   "source": [
    "sc = SparkContext(conf=conf)\n",
    "\n",
    "sc._jsc.hadoopConfiguration().set(\"fs.AbstractFileSystem.gs.impl\",  \"com.google.cloud.hadoop.fs.gcs.GoogleHadoopFS\")\n",
    "sc._jsc.hadoopConfiguration().set(\"fs.gs.impl\", \"com.google.cloud.hadoop.fs.gcs.GoogleHadoopFileSystem\")\n",
    "sc._jsc.hadoopConfiguration().set(\"fs.gs.auth.service.account.json.keyfile\", credentials_json)\n",
    "sc._jsc.hadoopConfiguration().set(\"fs.gs.auth.service.account.enable\", \"true\")"
   ]
  },
  {
   "cell_type": "code",
   "execution_count": 7,
   "id": "d44a1a1d-a108-4584-95ea-139016db9f64",
   "metadata": {},
   "outputs": [],
   "source": [
    "spark = SparkSession.builder \\\n",
    "    .config(conf=sc.getConf()) \\\n",
    "    .getOrCreate()"
   ]
  },
  {
   "cell_type": "code",
   "execution_count": 8,
   "id": "b08c6576-dfe3-4e11-8d2a-d5a5b015e168",
   "metadata": {},
   "outputs": [
    {
     "name": "stderr",
     "output_type": "stream",
     "text": [
      "                                                                                \r"
     ]
    }
   ],
   "source": [
    "df_current = spark.read.parquet('gs://import-bucket-camiloms10/raw/players_game_stats_current_year.parquet')"
   ]
  },
  {
   "cell_type": "code",
   "execution_count": 9,
   "id": "50e11a45-d99b-48db-971f-f6bb29468eb7",
   "metadata": {},
   "outputs": [
    {
     "name": "stdout",
     "output_type": "stream",
     "text": [
      "['SEASON_YEAR', 'PLAYER_ID', 'PLAYER_NAME', 'NICKNAME', 'TEAM_ID', 'TEAM_ABBREVIATION', 'TEAM_NAME', 'GAME_ID', 'GAME_DATE', 'MATCHUP', 'WL', 'MIN', 'FGM', 'FGA', 'FG_PCT', 'FG3M', 'FG3A', 'FG3_PCT', 'FTM', 'FTA', 'FT_PCT', 'OREB', 'DREB', 'REB', 'AST', 'TOV', 'STL', 'BLK', 'BLKA', 'PF', 'PFD', 'PTS', 'PLUS_MINUS', 'NBA_FANTASY_PTS', 'DD2', 'TD3', 'WNBA_FANTASY_PTS', 'GP_RANK', 'W_RANK', 'L_RANK', 'W_PCT_RANK', 'MIN_RANK', 'FGM_RANK', 'FGA_RANK', 'FG_PCT_RANK', 'FG3M_RANK', 'FG3A_RANK', 'FG3_PCT_RANK', 'FTM_RANK', 'FTA_RANK', 'FT_PCT_RANK', 'OREB_RANK', 'DREB_RANK', 'REB_RANK', 'AST_RANK', 'TOV_RANK', 'STL_RANK', 'BLK_RANK', 'BLKA_RANK', 'PF_RANK', 'PFD_RANK', 'PTS_RANK', 'PLUS_MINUS_RANK', 'NBA_FANTASY_PTS_RANK', 'DD2_RANK', 'TD3_RANK', 'WNBA_FANTASY_PTS_RANK', 'AVAILABLE_FLAG', '__index_level_0__']\n"
     ]
    }
   ],
   "source": [
    "print(df_current.columns)"
   ]
  },
  {
   "cell_type": "code",
   "execution_count": null,
   "id": "1ed3dd94-9852-4c12-99bf-5d2c3147f3b8",
   "metadata": {},
   "outputs": [],
   "source": [
    "df_current.show()"
   ]
  },
  {
   "cell_type": "code",
   "execution_count": null,
   "id": "e3a90373-32c3-4ef4-be38-2301e5c224e5",
   "metadata": {},
   "outputs": [],
   "source": [
    "df_past = spark.read.parquet('gs://import-bucket-camiloms10/raw/players_game_stats_till_last_year.parquet')"
   ]
  },
  {
   "cell_type": "code",
   "execution_count": null,
   "id": "6a17ba9e-b6bd-48d1-9006-2b71825afd83",
   "metadata": {},
   "outputs": [],
   "source": [
    "df_past.show()"
   ]
  },
  {
   "cell_type": "code",
   "execution_count": null,
   "id": "62b934dd-aec5-4103-b1a1-ebc7ee7ff79b",
   "metadata": {},
   "outputs": [],
   "source": [
    "full_dataset = df_past.unionByName(df_current, allowMissingColumns=True)"
   ]
  },
  {
   "cell_type": "code",
   "execution_count": null,
   "id": "081b5912-4bf0-4512-853f-4518f902c440",
   "metadata": {},
   "outputs": [],
   "source": [
    "full_dataset.show()"
   ]
  },
  {
   "cell_type": "code",
   "execution_count": null,
   "id": "b736fd2b-f5c1-4740-8585-6812cd3cdb2e",
   "metadata": {},
   "outputs": [],
   "source": [
    "full_dataset.fillna(0)"
   ]
  },
  {
   "cell_type": "code",
   "execution_count": null,
   "id": "47e0d057-c975-4b92-b3ac-c9b78516e8cd",
   "metadata": {},
   "outputs": [],
   "source": [
    "full_dataset.createOrReplaceTempView(\"table_df\")\n",
    "spark.sql(\"\"\"SELECT * FROM table_df ORDER BY GAME_DATE DESC limit 1\"\"\").show()"
   ]
  },
  {
   "cell_type": "code",
   "execution_count": null,
   "id": "913ded94-cf5c-4b48-a9a7-d099ff6868ab",
   "metadata": {},
   "outputs": [],
   "source": [
    "schema = types.StructType([\n",
    "                         types.StructField(\"SEASON_ID\", types.StringType(), True),\n",
    "                         types.StructField(\"PLAYER_ID\", types.IntegerType(), True),\n",
    "                         types.StructField(\"PLAYER_NAME\", types.StringType(), True),\n",
    "                         types.StructField(\"NICKNAME\", types. StringType(), True),\n",
    "                         types.StructField(\"TEAM_ID\", types.IntegerType(), True),\n",
    "                         types.StructField(\"TEAM_ABBREVIATION\", types.StringType(), True),\n",
    "                         types.StructField(\"TEAM_NAME\", types. StringType(), True),\n",
    "                         types.StructField(\"GAME_ID\", types.StringType(), True),\n",
    "                         types.StructField(\"GAME_DATE\", types.StringType(), True),\n",
    "                         types.StructField(\"MATCHUP\", types.StringType(), True),\n",
    "                         types.StructField(\"WL\", types.StringType(), True),\n",
    "                         types.StructField(\"MIN\", types.IntegerType(), True),\n",
    "                         types.StructField(\"FGM\", types.IntegerType(), True),\n",
    "                         types.StructField(\"FGA\", types.FloatType(), True),\n",
    "                         types.StructField(\"FG_PCT\", types.FloatType(), True),\n",
    "                         types.StructField(\"FG3M\", types.IntegerType(), True),\n",
    "                         types.StructField(\"FG3A\", types.IntegerType(), True),\n",
    "                         types.StructField(\"FG3_PCT\", types.FloatType(), True),\n",
    "                         types.StructField(\"FTM\", types.IntegerType(), True),\n",
    "                         types.StructField(\"FTA\", types. IntegerType(), True),\n",
    "                         types.StructField(\"FT_PCT\", types.FloatType(), True),\n",
    "                         types.StructField(\"OREB\", types.IntegerType(), True),\n",
    "                         types.StructField(\"DREB\", types.IntegerType(), True),\n",
    "                         types.StructField(\"REB\", types.IntegerType(), True),\n",
    "                         types.StructField(\"AST\", types.IntegerType(), True),\n",
    "                         types.StructField(\"STL\", types.IntegerType(), True),\n",
    "                         types.StructField(\"BLK\", types.IntegerType(), True),\n",
    "                         types.StructField(\"TOV\", types.IntegerType(), True),\n",
    "                         types.StructField(\"PF\", types.IntegerType(), True),\n",
    "                         types.StructField(\"PTS\", types.IntegerType(), True),\n",
    "                         types.StructField(\"PLUS_MINUS\", types.IntegerType(), True),\n",
    "                         types.StructField(\"VIDEO_AVAILABLE\", types.IntegerType(), True)\n",
    "])"
   ]
  }
 ],
 "metadata": {
  "kernelspec": {
   "display_name": "Python 3 (ipykernel)",
   "language": "python",
   "name": "python3"
  },
  "language_info": {
   "codemirror_mode": {
    "name": "ipython",
    "version": 3
   },
   "file_extension": ".py",
   "mimetype": "text/x-python",
   "name": "python",
   "nbconvert_exporter": "python",
   "pygments_lexer": "ipython3",
   "version": "3.10.12"
  }
 },
 "nbformat": 4,
 "nbformat_minor": 5
}
