{
 "cells": [
  {
   "cell_type": "code",
   "execution_count": 1,
   "id": "5afcb94f-65fd-4b5f-953f-8b4c9a9dbfbe",
   "metadata": {},
   "outputs": [
    {
     "name": "stderr",
     "output_type": "stream",
     "text": [
      "/home/camiloms/spark/spark-3.3.3-bin-hadoop3/python/pyspark/pandas/__init__.py:49: UserWarning: 'PYARROW_IGNORE_TIMEZONE' environment variable was not set. It is required to set this environment variable to '1' in both driver and executor sides if you use pyarrow>=2.0.0. pandas-on-Spark will set it for you but it does not work if there is a Spark context already launched.\n",
      "  warnings.warn(\n"
     ]
    }
   ],
   "source": [
    "import pyspark\n",
    "from pyspark.sql import SparkSession, types\n",
    "from pyspark.conf import SparkConf\n",
    "from pyspark.context import SparkContext\n",
    "from pyspark.sql import functions as F\n",
    "from pyspark.sql.types import StructType, IntegerType, DateType, StructField, StringType, TimestampType\n",
    "import pyspark.pandas as ps\n",
    "import logging, traceback\n",
    "import requests\n",
    "import sys\n",
    "import pandas as pd\n",
    "from datetime import datetime, date\n",
    "from dateutil.relativedelta import relativedelta\n",
    "from dateutil.parser import parse"
   ]
  },
  {
   "cell_type": "code",
   "execution_count": null,
   "id": "b22ab3e7-0bd8-43c4-a90e-65975bac8ad3",
   "metadata": {},
   "outputs": [],
   "source": [
    "# This is to create a Local Cluster \n",
    "#spark = SparkSession.builder \\\n",
    "#        .master(\"spark://LAPTOP-C9HBU13M.:7077\") \\\n",
    "#        .appName('test') \\\n",
    "#        .getOrCreate()"
   ]
  },
  {
   "cell_type": "code",
   "execution_count": null,
   "id": "287c4d28-d7a9-412e-8273-14d70e4a40e3",
   "metadata": {},
   "outputs": [],
   "source": [
    "#Spark version testing for Local Cluster\n",
    "\n",
    "#spark"
   ]
  },
  {
   "cell_type": "code",
   "execution_count": 2,
   "id": "3dead5e3-6303-47cc-9edc-bd5fb97b5cb6",
   "metadata": {},
   "outputs": [
    {
     "data": {
      "text/plain": [
       "'/home/camiloms/spark/spark-3.3.3-bin-hadoop3/python/pyspark/__init__.py'"
      ]
     },
     "execution_count": 2,
     "metadata": {},
     "output_type": "execute_result"
    }
   ],
   "source": [
    "pyspark.__file__"
   ]
  },
  {
   "cell_type": "code",
   "execution_count": 3,
   "id": "db834a7a-03eb-4db3-923c-310e88de9e4a",
   "metadata": {},
   "outputs": [],
   "source": [
    "credentials_json ='/home/camiloms/nba_stats_de/airflow/.google/credentials/google_credentials.json'\n",
    "\n",
    "conf = SparkConf() \\\n",
    "    .setMaster('local[*]') \\\n",
    "    .setAppName('test') \\\n",
    "    .set(\"spark.jars\", \"./lib/gcs-connector-hadoop3-2.2.5.jar\") \\\n",
    "    .set(\"spark.hadoop.google.cloud.auth.service.account.enable\", \"true\") \\\n",
    "    .set(\"spark.hadoop.google.cloud.auth.service.account.json.keyfile\",credentials_json)"
   ]
  },
  {
   "cell_type": "code",
   "execution_count": 4,
   "id": "8a400ebf-02d9-45bf-8ad1-44b6115e7087",
   "metadata": {},
   "outputs": [
    {
     "name": "stdout",
     "output_type": "stream",
     "text": [
      "23/09/07 13:51:44 WARN Utils: Your hostname, LAPTOP-C9HBU13M resolves to a loopback address: 127.0.1.1; using 172.21.82.95 instead (on interface eth0)\n",
      "23/09/07 13:51:44 WARN Utils: Set SPARK_LOCAL_IP if you need to bind to another address\n",
      "23/09/07 13:51:46 WARN NativeCodeLoader: Unable to load native-hadoop library for your platform... using builtin-java classes where applicable\n"
     ]
    },
    {
     "name": "stderr",
     "output_type": "stream",
     "text": [
      "Setting default log level to \"WARN\".\n",
      "To adjust logging level use sc.setLogLevel(newLevel). For SparkR, use setLogLevel(newLevel).\n"
     ]
    },
    {
     "name": "stdout",
     "output_type": "stream",
     "text": [
      "23/09/07 13:51:48 WARN Utils: Service 'SparkUI' could not bind on port 4040. Attempting port 4041.\n"
     ]
    }
   ],
   "source": [
    "sc = SparkContext(conf=conf)\n",
    "\n",
    "sc._jsc.hadoopConfiguration().set(\"fs.AbstractFileSystem.gs.impl\",  \"com.google.cloud.hadoop.fs.gcs.GoogleHadoopFS\")\n",
    "sc._jsc.hadoopConfiguration().set(\"fs.gs.impl\", \"com.google.cloud.hadoop.fs.gcs.GoogleHadoopFileSystem\")\n",
    "sc._jsc.hadoopConfiguration().set(\"fs.gs.auth.service.account.json.keyfile\", credentials_json)\n",
    "sc._jsc.hadoopConfiguration().set(\"fs.gs.auth.service.account.enable\", \"true\")"
   ]
  },
  {
   "cell_type": "code",
   "execution_count": 5,
   "id": "d44a1a1d-a108-4584-95ea-139016db9f64",
   "metadata": {},
   "outputs": [],
   "source": [
    "spark = SparkSession.builder \\\n",
    "    .config(conf=sc.getConf()) \\\n",
    "    .getOrCreate()"
   ]
  },
  {
   "cell_type": "code",
   "execution_count": 12,
   "id": "b08c6576-dfe3-4e11-8d2a-d5a5b015e168",
   "metadata": {},
   "outputs": [
    {
     "name": "stderr",
     "output_type": "stream",
     "text": [
      "                                                                                \r"
     ]
    }
   ],
   "source": [
    "df_current = spark.read.parquet('gs://import-bucket-camiloms10/raw/players_game_stats_current_year.parquet')"
   ]
  },
  {
   "cell_type": "code",
   "execution_count": 13,
   "id": "1ed3dd94-9852-4c12-99bf-5d2c3147f3b8",
   "metadata": {},
   "outputs": [
    {
     "name": "stderr",
     "output_type": "stream",
     "text": [
      "[Stage 7:>                                                          (0 + 1) / 1]\r"
     ]
    },
    {
     "name": "stdout",
     "output_type": "stream",
     "text": [
      "+-----------+---------+--------------------+------------+----------+-----------------+--------------------+----------+-------------------+-----------+---+------------------+---+---+------+----+----+-------+---+---+------+----+----+---+---+---+---+---+----+---+---+---+----------+---------------+---+---+----------------+-------+------+------+----------+--------+--------+--------+-----------+---------+---------+------------+--------+--------+-----------+---------+---------+--------+--------+--------+--------+--------+---------+-------+--------+--------+---------------+--------------------+--------+--------+---------------------+--------------+-----------------+\n",
      "|SEASON_YEAR|PLAYER_ID|         PLAYER_NAME|    NICKNAME|   TEAM_ID|TEAM_ABBREVIATION|           TEAM_NAME|   GAME_ID|          GAME_DATE|    MATCHUP| WL|               MIN|FGM|FGA|FG_PCT|FG3M|FG3A|FG3_PCT|FTM|FTA|FT_PCT|OREB|DREB|REB|AST|TOV|STL|BLK|BLKA| PF|PFD|PTS|PLUS_MINUS|NBA_FANTASY_PTS|DD2|TD3|WNBA_FANTASY_PTS|GP_RANK|W_RANK|L_RANK|W_PCT_RANK|MIN_RANK|FGM_RANK|FGA_RANK|FG_PCT_RANK|FG3M_RANK|FG3A_RANK|FG3_PCT_RANK|FTM_RANK|FTA_RANK|FT_PCT_RANK|OREB_RANK|DREB_RANK|REB_RANK|AST_RANK|TOV_RANK|STL_RANK|BLK_RANK|BLKA_RANK|PF_RANK|PFD_RANK|PTS_RANK|PLUS_MINUS_RANK|NBA_FANTASY_PTS_RANK|DD2_RANK|TD3_RANK|WNBA_FANTASY_PTS_RANK|AVAILABLE_FLAG|__index_level_0__|\n",
      "+-----------+---------+--------------------+------------+----------+-----------------+--------------------+----------+-------------------+-----------+---+------------------+---+---+------+----+----+-------+---+---+------+----+----+---+---+---+---+---+----+---+---+---+----------+---------------+---+---+----------------+-------+------+------+----------+--------+--------+--------+-----------+---------+---------+------------+--------+--------+-----------+---------+---------+--------+--------+--------+--------+--------+---------+-------+--------+--------+---------------+--------------------+--------+--------+---------------------+--------------+-----------------+\n",
      "|    2022-23|  1630644|         Mac McClung|         Mac|1610612755|              PHI|  Philadelphia 76ers|0022201217|2023-04-08 18:00:00|  PHI @ BKN|  W|             33.25|  8| 17| 0.471|   3|   9|  0.333|  1|  3| 0.333|   3|   6|  9|  9|  1|  0|  0|   0|  3|  3| 20|        29|           43.3|  0|  0|            41.0|      1|     1|     1|         1|    5264|    2711|    2392|      12663|     2120|     1087|        8680|   10510|    6555|      13452|     1492|     2868|    2052|     634|    8897|   11790|    7930|        1|  17563|    4788|    3852|            177|                2358|    2163|     120|                 2464|             1|                0|\n",
      "|    2022-23|  1630167|          Obi Toppin|         Obi|1610612752|              NYK|     New York Knicks|0022201220|2023-04-08 18:00:00|NYK vs. IND|  L|             36.55| 13| 23| 0.565|   5|  10|    0.5|  3|  3|   1.0|   1|   6|  7|  5|  1|  2|  0|   2|  2|  2| 34|         7|           54.9|  0|  0|            55.0|      1| 12947| 12947|     12947|    2500|     299|     508|       7637|      428|      661|        3861|    4622|    6555|          1|     6448|     2868|    3911|    3151|    8897|    1343|    7930|    23619|  11553|    7612|     480|           5992|                 660|    2163|     120|                  499|             1|                1|\n",
      "|    2022-23|  1630219|         Skylar Mays|      Skylar|1610612757|              POR|Portland Trail Bl...|0022201230|2023-04-08 18:00:00|POR vs. GSW|  L| 40.71666666666667|  7| 17| 0.412|   2|   7|  0.286|  5|  5|   1.0|   0|   4|  4| 12|  2|  3|  0|   3|  2|  4| 21|       -44|           50.8|  1|  0|            45.0|      1| 12947| 12947|     12947|     467|    3877|    2392|      15093|     4226|     2551|       10982|    2152|    3311|          1|    13272|     6530|    9590|     129|    4399|     387|    7930|    25315|  11553|    2943|    3416|          25894|                1059|       1|     120|                 1591|             1|                2|\n",
      "|    2022-23|   203482|        Kelly Olynyk|       Kelly|1610612762|              UTA|           Utah Jazz|0022201228|2023-04-08 18:00:00|  UTA @ LAL|  L|29.266666666666666|  9| 13| 0.692|   3|   4|   0.75|  2|  2|   1.0|   0|   5|  5|  4|  4|  0|  2|   1|  1|  3| 23|       -11|           37.0|  0|  0|            39.0|      1| 12947| 12947|     12947|    8749|    1839|    5108|       3448|     2120|     7558|        1581|    6620|    8080|          1|    13272|     4379|    7186|    4531|     842|   11790|     751|    17468|   5181|    4788|    2654|          21730|                4100|    2163|     120|                 2989|             1|                3|\n",
      "|    2022-23|  1630692|      Jordan Goodwin|      Jordan|1610612764|              WAS|  Washington Wizards|0022201222|2023-04-08 18:00:00|WAS vs. HOU|  L|             29.55|  8| 14| 0.571|   3|   8|  0.375|  3|  4|  0.75|   0|   5|  5|  5|  4|  2|  1|   2|  3|  3| 22|         2|           40.5|  0|  0|            41.0|      1| 12947| 12947|     12947|    8487|    2711|    4330|       7046|     2120|     1659|        8355|    4622|    4303|       8358|    13272|     4379|    7186|    3151|     842|    1343|    2381|    23619|  17563|    4788|    3023|           9989|                3021|    2163|     120|                 2464|             1|                4|\n",
      "|    2022-23|  1630544|            Tre Mann|         Tre|1610612760|              OKC|Oklahoma City Thu...|0022201226|2023-04-08 18:00:00|OKC vs. MEM|  W|46.733333333333334|  9| 16| 0.563|   1|   4|   0.25|  5|  5|   1.0|   1|  11| 12| 12|  5|  2|  0|   1|  2|  4| 24|        13|           57.4|  1|  1|            53.0|      1|     1|     1|         1|      36|    1839|    2947|       7661|     8083|     7558|       11411|    2152|    3311|          1|     6448|      292|     725|     129|     319|    1343|    7930|    17468|  11553|    2943|    2312|           2916|                 480|       1|       1|                  637|             1|                5|\n",
      "|    2022-23|   201566|   Russell Westbrook|     Russell|1610612746|              LAC|         LA Clippers|0022201229|2023-04-08 18:00:00|  LAC @ PHX|  W| 39.78333333333333|  8| 19| 0.421|   2|   4|    0.5|  7| 10|   0.7|   6|   1|  7|  9|  2|  1|  0|   0|  1|  5| 25|         8|           47.9|  0|  0|            45.0|      1|     1|     1|         1|     717|    2711|    1551|      14789|     4226|     7558|        3861|     993|     576|       9587|      168|    17626|    3911|     634|    4399|    4306|    7930|        1|   5181|    1742|    2009|           5327|                1460|    2163|     120|                 1591|             1|                6|\n",
      "|    2022-23|  1630240|           Saben Lee|       Saben|1610612756|              PHX|        Phoenix Suns|0022201229|2023-04-08 18:00:00|PHX vs. LAC|  L| 44.21666666666667|  8| 21| 0.381|   3|   8|  0.375|  6|  8|  0.75|   1|   2|  3| 10|  1|  2|  0|   1|  3|  5| 25|        -9|           48.6|  1|  0|            45.0|      1| 12947| 12947|     12947|     113|    2711|     929|      16579|     2120|     1659|        8355|    1457|    1170|       8358|     6448|    13188|   12567|     399|    8897|    1343|    7930|    17468|  17563|    1742|    2009|          20484|                1351|       1|     120|                 1591|             1|                7|\n",
      "|    2022-23|   203488|        Mike Muscala|        Mike|1610612738|              BOS|      Boston Celtics|0022201216|2023-04-08 18:00:00|BOS vs. ATL|  W|33.416666666666664|  9| 13| 0.692|   4|   7|  0.571|  5|  7| 0.714|   4|   4|  8|  2|  2|  0|  0|   0|  3|  4| 27|        13|           37.6|  0|  0|            41.0|      1|     1|     1|         1|    5115|    1839|    5108|       3448|     1024|     2551|        3487|    2152|    1700|       9448|      734|     6530|    2807|    9342|    4399|   11790|    7930|        1|  17563|    2943|    1513|           2916|                3878|    2163|     120|                 2464|             1|                8|\n",
      "|    2022-23|   203076|       Anthony Davis|     Anthony|1610612747|              LAL|  Los Angeles Lakers|0022201228|2023-04-08 18:00:00|LAL vs. UTA|  W|            33.955|  7| 15| 0.467|   0|   0|    0.0|  2|  2|   1.0|   3|  10| 13|  3|  4|  3|  4|   2|  2|  4| 16|        10|           53.1|  1|  0|            46.0|      1|     1|     1|         1|    4666|    3877|    3608|      12776|    14184|    20319|       14184|    6620|    8080|          1|     1492|      496|     472|    6516|     842|     387|      87|    23619|  11553|    2943|    6103|           4240|                 802|       1|     120|                 1442|             1|                9|\n",
      "|    2022-23|  1627742|      Brandon Ingram|     Brandon|1610612740|              NOP|New Orleans Pelicans|0022201225|2023-04-08 18:00:00|  NOP @ MIN|  L| 42.21666666666667| 16| 28| 0.571|   1|   3|  0.333|  9|  9|   1.0|   3|   9| 12|  7|  4|  2|  1|   4|  2|  6| 42|         7|           71.9|  1|  0|            68.0|      1| 12947| 12947|     12947|     250|      59|      76|       7046|     8083|    10172|        8680|     452|     842|          1|     1492|      766|     725|    1460|     842|    1343|    2381|    25771|  11553|     993|      98|           5992|                  51|       1|     120|                   73|             1|               10|\n",
      "|    2022-23|  1630162|     Anthony Edwards|     Anthony|1610612750|              MIN|Minnesota Timberw...|0022201225|2023-04-08 18:00:00|MIN vs. NOP|  W|39.083333333333336|  8| 21| 0.381|   3|   9|  0.333|  7| 13| 0.538|   3|  10| 13|  4|  8|  4|  4|   1|  3|  7| 26|        -4|           63.6|  1|  0|            62.0|      1|     1|     1|         1|     984|    2711|     929|      16579|     2120|     1087|        8680|     993|     207|      10972|     1492|      496|     472|    4531|      14|      90|      87|    17468|  17563|     559|    1742|          16280|                 195|       1|     120|                  156|             1|               11|\n",
      "|    2022-23|   202695|       Kawhi Leonard|       Kawhi|1610612746|              LAC|         LA Clippers|0022201229|2023-04-08 18:00:00|  LAC @ PHX|  W|             35.92| 11| 21| 0.524|   0|   3|    0.0|  3|  5|   0.6|   0|  15| 15|  6|  4|  0|  0|   0|  4|  3| 25|        -7|           48.0|  1|  0|            46.0|      1|     1|     1|         1|    2977|     789|     929|       8975|    14184|    10172|       14184|    4622|    3311|      10622|    13272|       36|     222|    2101|     842|   11790|    7930|        1|  21892|    4788|    2009|          18993|                1440|       1|     120|                 1442|             1|               12|\n",
      "|    2022-23|  1631254|  Kenneth Lofton Jr.|     Kenneth|1610612763|              MEM|   Memphis Grizzlies|0022201226|2023-04-08 18:00:00|  MEM @ OKC|  L|             40.35| 17| 25|  0.68|   0|   2|    0.0|  8| 12| 0.667|   6|   8| 14|  0|  2|  1|  0|   1|  3|  9| 42|       -17|           59.8|  1|  0|            58.0|      1| 12947| 12947|     12947|     547|      32|     243|       3565|    14184|    13286|       14184|     663|     280|       9637|      168|     1233|     315|   19186|    4399|    4306|    7930|    17468|  17563|     194|      98|          24272|                 347|       1|     120|                  322|             1|               13|\n",
      "|    2022-23|  1630215|        Jared Butler|       Jared|1610612760|              OKC|Oklahoma City Thu...|0022201226|2023-04-08 18:00:00|OKC vs. MEM|  W| 45.61666666666667| 10| 21| 0.476|   5|   9|  0.556|  0|  0|   0.0|   1|   2|  3|  4|  3|  1|  0|   2|  0|  2| 25|        16|           34.6|  0|  0|            39.0|      1|     1|     1|         1|      70|    1204|     929|      12534|      428|     1087|        3715|   13851|   14660|      13851|     6448|    13188|   12567|    4531|    2046|    4306|    7930|    23619|      1|    7612|    2009|           1910|                4944|    2163|     120|                 2989|             1|               14|\n",
      "|    2022-23|  1626157|  Karl-Anthony Towns|Karl-Anthony|1610612750|              MIN|Minnesota Timberw...|0022201225|2023-04-08 18:00:00|MIN vs. NOP|  W| 36.12166666666667| 10| 19| 0.526|   5|   8|  0.625|  5|  6| 0.833|   2|   6|  8|  2|  2|  0|  1|   0|  5|  7| 30|         4|           43.6|  0|  0|            47.0|      1|     1|     1|         1|    2830|    1204|    1551|       8911|      428|     1659|        2900|    2152|    2263|       7354|     3077|     2868|    2807|    9342|    4399|   11790|    2381|        1|  24422|     559|     950|           8218|                2290|    2163|     120|                 1278|             1|               15|\n",
      "|    2022-23|  1631097|  Bennedict Mathurin|   Bennedict|1610612754|              IND|      Indiana Pacers|0022201220|2023-04-08 18:00:00|  IND @ NYK|  W| 36.81666666666667|  6| 13| 0.462|   2|   3|  0.667| 12| 13| 0.923|   0|   3|  3|  6|  3|  0|  1|   2|  2|  6| 26|         3|           38.6|  0|  0|            39.0|      1|     1|     1|         1|    2307|    5438|    5108|      12924|     4226|    10172|        1971|     122|     207|       6641|    13272|     9404|   12567|    2101|    2046|   11790|    2381|    23619|  11553|     993|    1742|           9061|                3581|    2163|     120|                 2989|             1|               16|\n",
      "|    2022-23|  1630572|Sandro Mamukelash...|      Sandro|1610612759|              SAS|   San Antonio Spurs|0022201224|2023-04-08 18:00:00|  SAS @ DAL|  W|             31.45|  8| 17| 0.471|   4|   7|  0.571|  3|  6|   0.5|   3|   8| 11|  4|  2|  0|  1|   0|  0|  3| 23|        27|           43.2|  1|  0|            44.0|      1|     1|     1|         1|    6870|    2711|    2392|      12663|     1024|     2551|        3487|    4622|    2263|      10976|     1492|     1233|    1038|    4531|    4399|   11790|    2381|        1|      1|    4788|    2654|            268|                2377|       1|     120|                 1786|             1|               17|\n",
      "|    2022-23|  1630560|          Cam Thomas|         Cam|1610612751|              BKN|       Brooklyn Nets|0022201217|2023-04-08 18:00:00|BKN vs. PHI|  L|             42.75| 16| 29| 0.552|   6|   8|   0.75|  8|  8|   1.0|   0|   2|  2|  1|  4|  1|  1|   2|  1|  7| 46|       -20|           51.9|  0|  0|            59.0|      1| 12947| 12947|     12947|     196|      59|      41|       8151|      178|     1659|        1581|     663|    1170|          1|    13272|    13188|   16055|   13459|     842|    4306|    2381|    23619|   5181|     559|      39|          24933|                 925|    2163|     120|                  269|             1|               18|\n",
      "|    2022-23|  1630846|        Olivier Sarr|     Olivier|1610612760|              OKC|Oklahoma City Thu...|0022201226|2023-04-08 18:00:00|OKC vs. MEM|  W|42.211666666666666| 10| 15| 0.667|   0|   2|    0.0|  2|  4|   0.5|   2|  13| 15|  1|  1|  1|  0|   0|  6|  6| 22|        14|           43.5|  1|  0|            40.0|      1|     1|     1|         1|     252|    1204|    3608|       3571|    14184|    13286|       14184|    6620|    4303|      10976|     3077|      116|     222|   13459|    8897|    4306|    7930|        1|  25612|     993|    3023|           2554|                2315|       1|     120|                 2713|             1|               19|\n",
      "+-----------+---------+--------------------+------------+----------+-----------------+--------------------+----------+-------------------+-----------+---+------------------+---+---+------+----+----+-------+---+---+------+----+----+---+---+---+---+---+----+---+---+---+----------+---------------+---+---+----------------+-------+------+------+----------+--------+--------+--------+-----------+---------+---------+------------+--------+--------+-----------+---------+---------+--------+--------+--------+--------+--------+---------+-------+--------+--------+---------------+--------------------+--------+--------+---------------------+--------------+-----------------+\n",
      "only showing top 20 rows\n",
      "\n"
     ]
    },
    {
     "name": "stderr",
     "output_type": "stream",
     "text": [
      "                                                                                \r"
     ]
    }
   ],
   "source": [
    "df_current.show()"
   ]
  },
  {
   "cell_type": "code",
   "execution_count": 14,
   "id": "e3a90373-32c3-4ef4-be38-2301e5c224e5",
   "metadata": {},
   "outputs": [
    {
     "name": "stderr",
     "output_type": "stream",
     "text": [
      "                                                                                \r"
     ]
    }
   ],
   "source": [
    "df_past = spark.read.parquet('gs://import-bucket-camiloms10/raw/players_game_stats_till_last_year.parquet')"
   ]
  },
  {
   "cell_type": "code",
   "execution_count": 15,
   "id": "6a17ba9e-b6bd-48d1-9006-2b71825afd83",
   "metadata": {},
   "outputs": [
    {
     "name": "stderr",
     "output_type": "stream",
     "text": [
      "[Stage 10:===========================================>              (3 + 1) / 4]\r"
     ]
    },
    {
     "name": "stdout",
     "output_type": "stream",
     "text": [
      "+---------+---------+------------------+--------+----------+-----------------+-----------------+----------+-------------------+-----------+---+---+---+----+------+----+----+-------+---+---+------+----+----+---+---+----+----+----+---+---+----------+---------------+-----------+----+----+---------------+----+----+----------------+-------+------+------+----------+--------+--------+--------+-----------+---------+---------+------------+--------+--------+-----------+---------+---------+--------+--------+--------+--------+--------+---------+-------+--------+--------+---------------+--------------------+--------+--------+---------------------+--------------+-----------------+\n",
      "|SEASON_ID|PLAYER_ID|       PLAYER_NAME|NICKNAME|   TEAM_ID|TEAM_ABBREVIATION|        TEAM_NAME|   GAME_ID|          GAME_DATE|    MATCHUP| WL|MIN|FGM| FGA|FG_PCT|FG3M|FG3A|FG3_PCT|FTM|FTA|FT_PCT|OREB|DREB|REB|AST| STL| BLK| TOV| PF|PTS|PLUS_MINUS|VIDEO_AVAILABLE|SEASON_YEAR|BLKA| PFD|NBA_FANTASY_PTS| DD2| TD3|WNBA_FANTASY_PTS|GP_RANK|W_RANK|L_RANK|W_PCT_RANK|MIN_RANK|FGM_RANK|FGA_RANK|FG_PCT_RANK|FG3M_RANK|FG3A_RANK|FG3_PCT_RANK|FTM_RANK|FTA_RANK|FT_PCT_RANK|OREB_RANK|DREB_RANK|REB_RANK|AST_RANK|TOV_RANK|STL_RANK|BLK_RANK|BLKA_RANK|PF_RANK|PFD_RANK|PTS_RANK|PLUS_MINUS_RANK|NBA_FANTASY_PTS_RANK|DD2_RANK|TD3_RANK|WNBA_FANTASY_PTS_RANK|AVAILABLE_FLAG|__index_level_0__|\n",
      "+---------+---------+------------------+--------+----------+-----------------+-----------------+----------+-------------------+-----------+---+---+---+----+------+----+----+-------+---+---+------+----+----+---+---+----+----+----+---+---+----------+---------------+-----------+----+----+---------------+----+----+----------------+-------+------+------+----------+--------+--------+--------+-----------+---------+---------+------------+--------+--------+-----------+---------+---------+--------+--------+--------+--------+--------+---------+-------+--------+--------+---------------+--------------------+--------+--------+---------------------+--------------+-----------------+\n",
      "|    21946|    76341|     Chet Carlisle|    Chet|1610610025|              CHS|    Chicago Stags|0024600331|1947-03-30 18:00:00|CHS vs. BOM|  W|0.0|  0| 4.0|   0.0|null|null|   null|  0|  0|  null|null|null|  0|  0|null|null|null|  0|  0|      null|            0.0|       null|null|null|           null|null|null|            null|   null|  null|  null|      null|    null|    null|    null|       null|     null|     null|        null|    null|    null|       null|     null|     null|    null|    null|    null|    null|    null|     null|   null|    null|    null|           null|                null|    null|    null|                 null|          null|                0|\n",
      "|    21946|    78638|     Max Zaslofsky|     Max|1610610025|              CHS|    Chicago Stags|0024600331|1947-03-30 18:00:00|CHS vs. BOM|  W|0.0|  2|23.0| 0.087|null|null|   null|  7|  7|   1.0|null|null|  0|  0|null|null|null|  2| 11|      null|            0.0|       null|null|null|           null|null|null|            null|   null|  null|  null|      null|    null|    null|    null|       null|     null|     null|        null|    null|    null|       null|     null|     null|    null|    null|    null|    null|    null|     null|   null|    null|    null|           null|                null|    null|    null|                 null|          null|                1|\n",
      "|    21946|    76918|     Chuck Halbert|   Chuck|1610610025|              CHS|    Chicago Stags|0024600331|1947-03-30 18:00:00|CHS vs. BOM|  W|0.0|  9|24.0| 0.375|null|null|   null|  1|  3| 0.333|null|null|  0|  0|null|null|null|  3| 19|      null|            0.0|       null|null|null|           null|null|null|            null|   null|  null|  null|      null|    null|    null|    null|       null|     null|     null|        null|    null|    null|       null|     null|     null|    null|    null|    null|    null|    null|     null|   null|    null|    null|           null|                null|    null|    null|                 null|          null|                2|\n",
      "|    21946|    78176|     Belus Smawley|   Belus|1610610034|              BOM|St. Louis Bombers|0024600331|1947-03-30 18:00:00|  BOM @ CHS|  L|0.0|  7|25.0|  0.28|null|null|   null|  3|  3|   1.0|null|null|  0|  0|null|null|null|  2| 17|      null|            0.0|       null|null|null|           null|null|null|            null|   null|  null|  null|      null|    null|    null|    null|       null|     null|     null|        null|    null|    null|       null|     null|     null|    null|    null|    null|    null|    null|     null|   null|    null|    null|           null|                null|    null|    null|                 null|          null|                3|\n",
      "|    21946|    77403|      Johnny Logan|  Johnny|1610610034|              BOM|St. Louis Bombers|0024600331|1947-03-30 18:00:00|  BOM @ CHS|  L|0.0|  4|18.0| 0.222|null|null|   null|  3|  5|   0.6|null|null|  0|  0|null|null|null|  3| 11|      null|            0.0|       null|null|null|           null|null|null|            null|   null|  null|  null|      null|    null|    null|    null|       null|     null|     null|        null|    null|    null|       null|     null|     null|    null|    null|    null|    null|    null|     null|   null|    null|    null|           null|                null|    null|    null|                 null|          null|                4|\n",
      "|    21946|    77123|        Tony Jaros|    Tony|1610610025|              CHS|    Chicago Stags|0024600331|1947-03-30 18:00:00|CHS vs. BOM|  W|0.0|  5|12.0| 0.417|null|null|   null|  2|  2|   1.0|null|null|  0|  0|null|null|null|  1| 12|      null|            0.0|       null|null|null|           null|null|null|            null|   null|  null|  null|      null|    null|    null|    null|       null|     null|     null|        null|    null|    null|       null|     null|     null|    null|    null|    null|    null|    null|     null|   null|    null|    null|           null|                null|    null|    null|                 null|          null|                5|\n",
      "|    21946|    76818|      Chuck Gilmur|   Chuck|1610610025|              CHS|    Chicago Stags|0024600331|1947-03-30 18:00:00|CHS vs. BOM|  W|0.0|  0| 3.0|   0.0|null|null|   null|  2|  3| 0.667|null|null|  0|  0|null|null|null|  4|  2|      null|            0.0|       null|null|null|           null|null|null|            null|   null|  null|  null|      null|    null|    null|    null|       null|     null|     null|        null|    null|    null|       null|     null|     null|    null|    null|    null|    null|    null|     null|   null|    null|    null|           null|                null|    null|    null|                 null|          null|                6|\n",
      "|    21946|    78114|      Jim Seminoff|     Jim|1610610025|              CHS|    Chicago Stags|0024600331|1947-03-30 18:00:00|CHS vs. BOM|  W|0.0|  3| 9.0| 0.333|null|null|   null|  1|  2|   0.5|null|null|  0|  0|null|null|null|  4|  7|      null|            0.0|       null|null|null|           null|null|null|            null|   null|  null|  null|      null|    null|    null|    null|       null|     null|     null|        null|    null|    null|       null|     null|     null|    null|    null|    null|    null|    null|     null|   null|    null|    null|           null|                null|    null|    null|                 null|          null|                7|\n",
      "|    21946|    77891|        Don Putman|     Don|1610610034|              BOM|St. Louis Bombers|0024600331|1947-03-30 18:00:00|  BOM @ CHS|  L|0.0|  0| 7.0|   0.0|null|null|   null|  2|  2|   1.0|null|null|  0|  0|null|null|null|  5|  2|      null|            0.0|       null|null|null|           null|null|null|            null|   null|  null|  null|      null|    null|    null|    null|       null|     null|     null|        null|    null|    null|       null|     null|     null|    null|    null|    null|    null|    null|     null|   null|    null|    null|           null|                null|    null|    null|                 null|          null|                8|\n",
      "|    21946|    76344|       Don Carlson|     Don|1610610025|              CHS|    Chicago Stags|0024600331|1947-03-30 18:00:00|CHS vs. BOM|  W|0.0|  3|10.0|   0.3|null|null|   null|  1|  2|   0.5|null|null|  0|  0|null|null|null|  5|  7|      null|            0.0|       null|null|null|           null|null|null|            null|   null|  null|  null|      null|    null|    null|    null|       null|     null|     null|        null|    null|    null|       null|     null|     null|    null|    null|    null|    null|    null|     null|   null|    null|    null|           null|                null|    null|    null|                 null|          null|                9|\n",
      "|    21946|    76582|          Bob Doll|     Bob|1610610034|              BOM|St. Louis Bombers|0024600331|1947-03-30 18:00:00|  BOM @ CHS|  L|0.0|  4|17.0| 0.235|null|null|   null|  8| 11| 0.727|null|null|  0|  0|null|null|null|  1| 16|      null|            0.0|       null|null|null|           null|null|null|            null|   null|  null|  null|      null|    null|    null|    null|       null|     null|     null|        null|    null|    null|       null|     null|     null|    null|    null|    null|    null|    null|     null|   null|    null|    null|           null|                null|    null|    null|                 null|          null|               10|\n",
      "|    21946|    78026|         Giff Roux|    Giff|1610610034|              BOM|St. Louis Bombers|0024600331|1947-03-30 18:00:00|  BOM @ CHS|  L|0.0|  1| 4.0|  0.25|null|null|   null|  0|  3|   0.0|null|null|  0|  0|null|null|null|  0|  2|      null|            0.0|       null|null|null|           null|null|null|            null|   null|  null|  null|      null|    null|    null|    null|       null|     null|     null|        null|    null|    null|       null|     null|     null|    null|    null|    null|    null|    null|     null|   null|    null|    null|           null|                null|    null|    null|                 null|          null|               11|\n",
      "|    21946|    77473|        Don Martin|     Don|1610610034|              BOM|St. Louis Bombers|0024600331|1947-03-30 18:00:00|  BOM @ CHS|  L|0.0|  1| 1.0|   1.0|null|null|   null|  0|  0|  null|null|null|  0|  0|null|null|null|  0|  2|      null|            0.0|       null|null|null|           null|null|null|            null|   null|  null|  null|      null|    null|    null|    null|       null|     null|     null|        null|    null|    null|       null|     null|     null|    null|    null|    null|    null|    null|     null|   null|    null|    null|           null|                null|    null|    null|                 null|          null|               12|\n",
      "|    21946|    77665|     George Munroe|  George|1610610034|              BOM|St. Louis Bombers|0024600331|1947-03-30 18:00:00|  BOM @ CHS|  L|0.0|  4|12.0| 0.333|null|null|   null|  0|  0|  null|null|null|  0|  0|null|null|null|  4|  8|      null|            0.0|       null|null|null|           null|null|null|            null|   null|  null|  null|      null|    null|    null|    null|       null|     null|     null|        null|    null|    null|       null|     null|     null|    null|    null|    null|    null|    null|     null|   null|    null|    null|           null|                null|    null|    null|                 null|          null|               13|\n",
      "|    21946|    78024|    Mickey Rottner|  Mickey|1610610025|              CHS|    Chicago Stags|0024600331|1947-03-30 18:00:00|CHS vs. BOM|  W|0.0|  1|10.0|   0.1|null|null|   null|  1|  1|   1.0|null|null|  0|  0|null|null|null|  1|  3|      null|            0.0|       null|null|null|           null|null|null|            null|   null|  null|  null|      null|    null|    null|    null|       null|     null|     null|        null|    null|    null|       null|     null|     null|    null|    null|    null|    null|    null|     null|   null|    null|    null|           null|                null|    null|    null|                 null|          null|               14|\n",
      "|    21946|    76515|      Aubrey Davis|  Aubrey|1610610034|              BOM|St. Louis Bombers|0024600331|1947-03-30 18:00:00|  BOM @ CHS|  L|0.0|  2| 3.0| 0.667|null|null|   null|  1|  1|   1.0|null|null|  0|  0|null|null|null|  1|  5|      null|            0.0|       null|null|null|           null|null|null|            null|   null|  null|  null|      null|    null|    null|    null|       null|     null|     null|        null|    null|    null|       null|     null|     null|    null|    null|    null|    null|    null|     null|   null|    null|    null|           null|                null|    null|    null|                 null|          null|               15|\n",
      "|    21946|    76092|Herschel Baltimore|Herschel|1610610034|              BOM|St. Louis Bombers|0024600331|1947-03-30 18:00:00|  BOM @ CHS|  L|0.0|  0| 2.0|   0.0|null|null|   null|  1|  2|   0.5|null|null|  0|  0|null|null|null|  2|  1|      null|            0.0|       null|null|null|           null|null|null|            null|   null|  null|  null|      null|    null|    null|    null|       null|     null|     null|        null|    null|    null|       null|     null|     null|    null|    null|    null|    null|    null|     null|   null|    null|    null|           null|                null|    null|    null|                 null|          null|               16|\n",
      "|    21946|    76935|     Cecil Hankins|   Cecil|1610610034|              BOM|St. Louis Bombers|0024600331|1947-03-30 18:00:00|  BOM @ CHS|  L|0.0|  1| 3.0| 0.333|null|null|   null|  0|  1|   0.0|null|null|  0|  0|null|null|null|  1|  2|      null|            0.0|       null|null|null|           null|null|null|            null|   null|  null|  null|      null|    null|    null|    null|       null|     null|     null|        null|    null|    null|       null|     null|     null|    null|    null|    null|    null|    null|     null|   null|    null|    null|           null|                null|    null|    null|                 null|          null|               17|\n",
      "|    21946|    77228|     Wilbert Kautz| Wilbert|1610610025|              CHS|    Chicago Stags|0024600331|1947-03-30 18:00:00|CHS vs. BOM|  W|0.0|  1|11.0| 0.091|null|null|   null|  0|  1|   0.0|null|null|  0|  0|null|null|null|  2|  2|      null|            0.0|       null|null|null|           null|null|null|            null|   null|  null|  null|      null|    null|    null|    null|       null|     null|     null|        null|    null|    null|       null|     null|     null|    null|    null|    null|    null|    null|     null|   null|    null|    null|           null|                null|    null|    null|                 null|          null|               18|\n",
      "|    21946|    77803|     Doyle Parrack|   Doyle|1610610025|              CHS|    Chicago Stags|0024600331|1947-03-30 18:00:00|CHS vs. BOM|  W|0.0|  5|12.0| 0.417|null|null|   null|  0|  3|   0.0|null|null|  0|  0|null|null|null|  1| 10|      null|            0.0|       null|null|null|           null|null|null|            null|   null|  null|  null|      null|    null|    null|    null|       null|     null|     null|        null|    null|    null|       null|     null|     null|    null|    null|    null|    null|    null|     null|   null|    null|    null|           null|                null|    null|    null|                 null|          null|               19|\n",
      "+---------+---------+------------------+--------+----------+-----------------+-----------------+----------+-------------------+-----------+---+---+---+----+------+----+----+-------+---+---+------+----+----+---+---+----+----+----+---+---+----------+---------------+-----------+----+----+---------------+----+----+----------------+-------+------+------+----------+--------+--------+--------+-----------+---------+---------+------------+--------+--------+-----------+---------+---------+--------+--------+--------+--------+--------+---------+-------+--------+--------+---------------+--------------------+--------+--------+---------------------+--------------+-----------------+\n",
      "only showing top 20 rows\n",
      "\n"
     ]
    },
    {
     "name": "stderr",
     "output_type": "stream",
     "text": [
      "                                                                                \r"
     ]
    }
   ],
   "source": [
    "df_past.show()"
   ]
  },
  {
   "cell_type": "code",
   "execution_count": 16,
   "id": "62b934dd-aec5-4103-b1a1-ebc7ee7ff79b",
   "metadata": {},
   "outputs": [],
   "source": [
    "full_dataset = df_past.unionByName(df_current, allowMissingColumns=True)"
   ]
  },
  {
   "cell_type": "code",
   "execution_count": 17,
   "id": "081b5912-4bf0-4512-853f-4518f902c440",
   "metadata": {},
   "outputs": [
    {
     "name": "stderr",
     "output_type": "stream",
     "text": [
      "[Stage 12:===========================================>              (3 + 1) / 4]\r"
     ]
    },
    {
     "name": "stdout",
     "output_type": "stream",
     "text": [
      "+---------+---------+------------------+--------+----------+-----------------+-----------------+----------+-------------------+-----------+---+---+---+----+------+----+----+-------+---+---+------+----+----+---+---+----+----+----+---+---+----------+---------------+-----------+----+----+---------------+----+----+----------------+-------+------+------+----------+--------+--------+--------+-----------+---------+---------+------------+--------+--------+-----------+---------+---------+--------+--------+--------+--------+--------+---------+-------+--------+--------+---------------+--------------------+--------+--------+---------------------+--------------+-----------------+\n",
      "|SEASON_ID|PLAYER_ID|       PLAYER_NAME|NICKNAME|   TEAM_ID|TEAM_ABBREVIATION|        TEAM_NAME|   GAME_ID|          GAME_DATE|    MATCHUP| WL|MIN|FGM| FGA|FG_PCT|FG3M|FG3A|FG3_PCT|FTM|FTA|FT_PCT|OREB|DREB|REB|AST| STL| BLK| TOV| PF|PTS|PLUS_MINUS|VIDEO_AVAILABLE|SEASON_YEAR|BLKA| PFD|NBA_FANTASY_PTS| DD2| TD3|WNBA_FANTASY_PTS|GP_RANK|W_RANK|L_RANK|W_PCT_RANK|MIN_RANK|FGM_RANK|FGA_RANK|FG_PCT_RANK|FG3M_RANK|FG3A_RANK|FG3_PCT_RANK|FTM_RANK|FTA_RANK|FT_PCT_RANK|OREB_RANK|DREB_RANK|REB_RANK|AST_RANK|TOV_RANK|STL_RANK|BLK_RANK|BLKA_RANK|PF_RANK|PFD_RANK|PTS_RANK|PLUS_MINUS_RANK|NBA_FANTASY_PTS_RANK|DD2_RANK|TD3_RANK|WNBA_FANTASY_PTS_RANK|AVAILABLE_FLAG|__index_level_0__|\n",
      "+---------+---------+------------------+--------+----------+-----------------+-----------------+----------+-------------------+-----------+---+---+---+----+------+----+----+-------+---+---+------+----+----+---+---+----+----+----+---+---+----------+---------------+-----------+----+----+---------------+----+----+----------------+-------+------+------+----------+--------+--------+--------+-----------+---------+---------+------------+--------+--------+-----------+---------+---------+--------+--------+--------+--------+--------+---------+-------+--------+--------+---------------+--------------------+--------+--------+---------------------+--------------+-----------------+\n",
      "|    21946|    76341|     Chet Carlisle|    Chet|1610610025|              CHS|    Chicago Stags|0024600331|1947-03-30 18:00:00|CHS vs. BOM|  W|0.0|  0| 4.0|   0.0|null|null|   null|  0|  0|  null|null|null|  0|  0|null|null|null|  0|  0|      null|            0.0|       null|null|null|           null|null|null|            null|   null|  null|  null|      null|    null|    null|    null|       null|     null|     null|        null|    null|    null|       null|     null|     null|    null|    null|    null|    null|    null|     null|   null|    null|    null|           null|                null|    null|    null|                 null|          null|                0|\n",
      "|    21946|    78638|     Max Zaslofsky|     Max|1610610025|              CHS|    Chicago Stags|0024600331|1947-03-30 18:00:00|CHS vs. BOM|  W|0.0|  2|23.0| 0.087|null|null|   null|  7|  7|   1.0|null|null|  0|  0|null|null|null|  2| 11|      null|            0.0|       null|null|null|           null|null|null|            null|   null|  null|  null|      null|    null|    null|    null|       null|     null|     null|        null|    null|    null|       null|     null|     null|    null|    null|    null|    null|    null|     null|   null|    null|    null|           null|                null|    null|    null|                 null|          null|                1|\n",
      "|    21946|    76918|     Chuck Halbert|   Chuck|1610610025|              CHS|    Chicago Stags|0024600331|1947-03-30 18:00:00|CHS vs. BOM|  W|0.0|  9|24.0| 0.375|null|null|   null|  1|  3| 0.333|null|null|  0|  0|null|null|null|  3| 19|      null|            0.0|       null|null|null|           null|null|null|            null|   null|  null|  null|      null|    null|    null|    null|       null|     null|     null|        null|    null|    null|       null|     null|     null|    null|    null|    null|    null|    null|     null|   null|    null|    null|           null|                null|    null|    null|                 null|          null|                2|\n",
      "|    21946|    78176|     Belus Smawley|   Belus|1610610034|              BOM|St. Louis Bombers|0024600331|1947-03-30 18:00:00|  BOM @ CHS|  L|0.0|  7|25.0|  0.28|null|null|   null|  3|  3|   1.0|null|null|  0|  0|null|null|null|  2| 17|      null|            0.0|       null|null|null|           null|null|null|            null|   null|  null|  null|      null|    null|    null|    null|       null|     null|     null|        null|    null|    null|       null|     null|     null|    null|    null|    null|    null|    null|     null|   null|    null|    null|           null|                null|    null|    null|                 null|          null|                3|\n",
      "|    21946|    77403|      Johnny Logan|  Johnny|1610610034|              BOM|St. Louis Bombers|0024600331|1947-03-30 18:00:00|  BOM @ CHS|  L|0.0|  4|18.0| 0.222|null|null|   null|  3|  5|   0.6|null|null|  0|  0|null|null|null|  3| 11|      null|            0.0|       null|null|null|           null|null|null|            null|   null|  null|  null|      null|    null|    null|    null|       null|     null|     null|        null|    null|    null|       null|     null|     null|    null|    null|    null|    null|    null|     null|   null|    null|    null|           null|                null|    null|    null|                 null|          null|                4|\n",
      "|    21946|    77123|        Tony Jaros|    Tony|1610610025|              CHS|    Chicago Stags|0024600331|1947-03-30 18:00:00|CHS vs. BOM|  W|0.0|  5|12.0| 0.417|null|null|   null|  2|  2|   1.0|null|null|  0|  0|null|null|null|  1| 12|      null|            0.0|       null|null|null|           null|null|null|            null|   null|  null|  null|      null|    null|    null|    null|       null|     null|     null|        null|    null|    null|       null|     null|     null|    null|    null|    null|    null|    null|     null|   null|    null|    null|           null|                null|    null|    null|                 null|          null|                5|\n",
      "|    21946|    76818|      Chuck Gilmur|   Chuck|1610610025|              CHS|    Chicago Stags|0024600331|1947-03-30 18:00:00|CHS vs. BOM|  W|0.0|  0| 3.0|   0.0|null|null|   null|  2|  3| 0.667|null|null|  0|  0|null|null|null|  4|  2|      null|            0.0|       null|null|null|           null|null|null|            null|   null|  null|  null|      null|    null|    null|    null|       null|     null|     null|        null|    null|    null|       null|     null|     null|    null|    null|    null|    null|    null|     null|   null|    null|    null|           null|                null|    null|    null|                 null|          null|                6|\n",
      "|    21946|    78114|      Jim Seminoff|     Jim|1610610025|              CHS|    Chicago Stags|0024600331|1947-03-30 18:00:00|CHS vs. BOM|  W|0.0|  3| 9.0| 0.333|null|null|   null|  1|  2|   0.5|null|null|  0|  0|null|null|null|  4|  7|      null|            0.0|       null|null|null|           null|null|null|            null|   null|  null|  null|      null|    null|    null|    null|       null|     null|     null|        null|    null|    null|       null|     null|     null|    null|    null|    null|    null|    null|     null|   null|    null|    null|           null|                null|    null|    null|                 null|          null|                7|\n",
      "|    21946|    77891|        Don Putman|     Don|1610610034|              BOM|St. Louis Bombers|0024600331|1947-03-30 18:00:00|  BOM @ CHS|  L|0.0|  0| 7.0|   0.0|null|null|   null|  2|  2|   1.0|null|null|  0|  0|null|null|null|  5|  2|      null|            0.0|       null|null|null|           null|null|null|            null|   null|  null|  null|      null|    null|    null|    null|       null|     null|     null|        null|    null|    null|       null|     null|     null|    null|    null|    null|    null|    null|     null|   null|    null|    null|           null|                null|    null|    null|                 null|          null|                8|\n",
      "|    21946|    76344|       Don Carlson|     Don|1610610025|              CHS|    Chicago Stags|0024600331|1947-03-30 18:00:00|CHS vs. BOM|  W|0.0|  3|10.0|   0.3|null|null|   null|  1|  2|   0.5|null|null|  0|  0|null|null|null|  5|  7|      null|            0.0|       null|null|null|           null|null|null|            null|   null|  null|  null|      null|    null|    null|    null|       null|     null|     null|        null|    null|    null|       null|     null|     null|    null|    null|    null|    null|    null|     null|   null|    null|    null|           null|                null|    null|    null|                 null|          null|                9|\n",
      "|    21946|    76582|          Bob Doll|     Bob|1610610034|              BOM|St. Louis Bombers|0024600331|1947-03-30 18:00:00|  BOM @ CHS|  L|0.0|  4|17.0| 0.235|null|null|   null|  8| 11| 0.727|null|null|  0|  0|null|null|null|  1| 16|      null|            0.0|       null|null|null|           null|null|null|            null|   null|  null|  null|      null|    null|    null|    null|       null|     null|     null|        null|    null|    null|       null|     null|     null|    null|    null|    null|    null|    null|     null|   null|    null|    null|           null|                null|    null|    null|                 null|          null|               10|\n",
      "|    21946|    78026|         Giff Roux|    Giff|1610610034|              BOM|St. Louis Bombers|0024600331|1947-03-30 18:00:00|  BOM @ CHS|  L|0.0|  1| 4.0|  0.25|null|null|   null|  0|  3|   0.0|null|null|  0|  0|null|null|null|  0|  2|      null|            0.0|       null|null|null|           null|null|null|            null|   null|  null|  null|      null|    null|    null|    null|       null|     null|     null|        null|    null|    null|       null|     null|     null|    null|    null|    null|    null|    null|     null|   null|    null|    null|           null|                null|    null|    null|                 null|          null|               11|\n",
      "|    21946|    77473|        Don Martin|     Don|1610610034|              BOM|St. Louis Bombers|0024600331|1947-03-30 18:00:00|  BOM @ CHS|  L|0.0|  1| 1.0|   1.0|null|null|   null|  0|  0|  null|null|null|  0|  0|null|null|null|  0|  2|      null|            0.0|       null|null|null|           null|null|null|            null|   null|  null|  null|      null|    null|    null|    null|       null|     null|     null|        null|    null|    null|       null|     null|     null|    null|    null|    null|    null|    null|     null|   null|    null|    null|           null|                null|    null|    null|                 null|          null|               12|\n",
      "|    21946|    77665|     George Munroe|  George|1610610034|              BOM|St. Louis Bombers|0024600331|1947-03-30 18:00:00|  BOM @ CHS|  L|0.0|  4|12.0| 0.333|null|null|   null|  0|  0|  null|null|null|  0|  0|null|null|null|  4|  8|      null|            0.0|       null|null|null|           null|null|null|            null|   null|  null|  null|      null|    null|    null|    null|       null|     null|     null|        null|    null|    null|       null|     null|     null|    null|    null|    null|    null|    null|     null|   null|    null|    null|           null|                null|    null|    null|                 null|          null|               13|\n",
      "|    21946|    78024|    Mickey Rottner|  Mickey|1610610025|              CHS|    Chicago Stags|0024600331|1947-03-30 18:00:00|CHS vs. BOM|  W|0.0|  1|10.0|   0.1|null|null|   null|  1|  1|   1.0|null|null|  0|  0|null|null|null|  1|  3|      null|            0.0|       null|null|null|           null|null|null|            null|   null|  null|  null|      null|    null|    null|    null|       null|     null|     null|        null|    null|    null|       null|     null|     null|    null|    null|    null|    null|    null|     null|   null|    null|    null|           null|                null|    null|    null|                 null|          null|               14|\n",
      "|    21946|    76515|      Aubrey Davis|  Aubrey|1610610034|              BOM|St. Louis Bombers|0024600331|1947-03-30 18:00:00|  BOM @ CHS|  L|0.0|  2| 3.0| 0.667|null|null|   null|  1|  1|   1.0|null|null|  0|  0|null|null|null|  1|  5|      null|            0.0|       null|null|null|           null|null|null|            null|   null|  null|  null|      null|    null|    null|    null|       null|     null|     null|        null|    null|    null|       null|     null|     null|    null|    null|    null|    null|    null|     null|   null|    null|    null|           null|                null|    null|    null|                 null|          null|               15|\n",
      "|    21946|    76092|Herschel Baltimore|Herschel|1610610034|              BOM|St. Louis Bombers|0024600331|1947-03-30 18:00:00|  BOM @ CHS|  L|0.0|  0| 2.0|   0.0|null|null|   null|  1|  2|   0.5|null|null|  0|  0|null|null|null|  2|  1|      null|            0.0|       null|null|null|           null|null|null|            null|   null|  null|  null|      null|    null|    null|    null|       null|     null|     null|        null|    null|    null|       null|     null|     null|    null|    null|    null|    null|    null|     null|   null|    null|    null|           null|                null|    null|    null|                 null|          null|               16|\n",
      "|    21946|    76935|     Cecil Hankins|   Cecil|1610610034|              BOM|St. Louis Bombers|0024600331|1947-03-30 18:00:00|  BOM @ CHS|  L|0.0|  1| 3.0| 0.333|null|null|   null|  0|  1|   0.0|null|null|  0|  0|null|null|null|  1|  2|      null|            0.0|       null|null|null|           null|null|null|            null|   null|  null|  null|      null|    null|    null|    null|       null|     null|     null|        null|    null|    null|       null|     null|     null|    null|    null|    null|    null|    null|     null|   null|    null|    null|           null|                null|    null|    null|                 null|          null|               17|\n",
      "|    21946|    77228|     Wilbert Kautz| Wilbert|1610610025|              CHS|    Chicago Stags|0024600331|1947-03-30 18:00:00|CHS vs. BOM|  W|0.0|  1|11.0| 0.091|null|null|   null|  0|  1|   0.0|null|null|  0|  0|null|null|null|  2|  2|      null|            0.0|       null|null|null|           null|null|null|            null|   null|  null|  null|      null|    null|    null|    null|       null|     null|     null|        null|    null|    null|       null|     null|     null|    null|    null|    null|    null|    null|     null|   null|    null|    null|           null|                null|    null|    null|                 null|          null|               18|\n",
      "|    21946|    77803|     Doyle Parrack|   Doyle|1610610025|              CHS|    Chicago Stags|0024600331|1947-03-30 18:00:00|CHS vs. BOM|  W|0.0|  5|12.0| 0.417|null|null|   null|  0|  3|   0.0|null|null|  0|  0|null|null|null|  1| 10|      null|            0.0|       null|null|null|           null|null|null|            null|   null|  null|  null|      null|    null|    null|    null|       null|     null|     null|        null|    null|    null|       null|     null|     null|    null|    null|    null|    null|    null|     null|   null|    null|    null|           null|                null|    null|    null|                 null|          null|               19|\n",
      "+---------+---------+------------------+--------+----------+-----------------+-----------------+----------+-------------------+-----------+---+---+---+----+------+----+----+-------+---+---+------+----+----+---+---+----+----+----+---+---+----------+---------------+-----------+----+----+---------------+----+----+----------------+-------+------+------+----------+--------+--------+--------+-----------+---------+---------+------------+--------+--------+-----------+---------+---------+--------+--------+--------+--------+--------+---------+-------+--------+--------+---------------+--------------------+--------+--------+---------------------+--------------+-----------------+\n",
      "only showing top 20 rows\n",
      "\n"
     ]
    },
    {
     "name": "stderr",
     "output_type": "stream",
     "text": [
      "                                                                                \r"
     ]
    }
   ],
   "source": [
    "full_dataset.show()"
   ]
  },
  {
   "cell_type": "code",
   "execution_count": 18,
   "id": "b736fd2b-f5c1-4740-8585-6812cd3cdb2e",
   "metadata": {},
   "outputs": [
    {
     "data": {
      "text/plain": [
       "DataFrame[SEASON_ID: string, PLAYER_ID: bigint, PLAYER_NAME: string, NICKNAME: string, TEAM_ID: bigint, TEAM_ABBREVIATION: string, TEAM_NAME: string, GAME_ID: string, GAME_DATE: timestamp, MATCHUP: string, WL: string, MIN: double, FGM: bigint, FGA: double, FG_PCT: double, FG3M: double, FG3A: double, FG3_PCT: double, FTM: bigint, FTA: bigint, FT_PCT: double, OREB: double, DREB: double, REB: bigint, AST: bigint, STL: double, BLK: double, TOV: double, PF: bigint, PTS: bigint, PLUS_MINUS: bigint, VIDEO_AVAILABLE: double, SEASON_YEAR: string, BLKA: double, PFD: double, NBA_FANTASY_PTS: double, DD2: double, TD3: double, WNBA_FANTASY_PTS: double, GP_RANK: double, W_RANK: double, L_RANK: double, W_PCT_RANK: double, MIN_RANK: double, FGM_RANK: double, FGA_RANK: double, FG_PCT_RANK: double, FG3M_RANK: double, FG3A_RANK: double, FG3_PCT_RANK: double, FTM_RANK: double, FTA_RANK: double, FT_PCT_RANK: double, OREB_RANK: double, DREB_RANK: double, REB_RANK: double, AST_RANK: double, TOV_RANK: double, STL_RANK: double, BLK_RANK: double, BLKA_RANK: double, PF_RANK: double, PFD_RANK: double, PTS_RANK: double, PLUS_MINUS_RANK: double, NBA_FANTASY_PTS_RANK: double, DD2_RANK: double, TD3_RANK: double, WNBA_FANTASY_PTS_RANK: double, AVAILABLE_FLAG: double, __index_level_0__: bigint]"
      ]
     },
     "execution_count": 18,
     "metadata": {},
     "output_type": "execute_result"
    }
   ],
   "source": [
    "full_dataset.fillna(0)"
   ]
  },
  {
   "cell_type": "code",
   "execution_count": 27,
   "id": "47e0d057-c975-4b92-b3ac-c9b78516e8cd",
   "metadata": {},
   "outputs": [
    {
     "name": "stderr",
     "output_type": "stream",
     "text": [
      "[Stage 17:===================================================>      (8 + 1) / 9]\r"
     ]
    },
    {
     "name": "stdout",
     "output_type": "stream",
     "text": [
      "+---------+---------+-----------+--------+----------+-----------------+------------------+----------+-------------------+---------+---+-----+---+----+------+----+----+-------+---+---+------+----+----+---+---+---+---+---+---+---+----------+---------------+-----------+----+---+---------------+---+---+----------------+-------+------+------+----------+--------+--------+--------+-----------+---------+---------+------------+--------+--------+-----------+---------+---------+--------+--------+--------+--------+--------+---------+-------+--------+--------+---------------+--------------------+--------+--------+---------------------+--------------+-----------------+\n",
      "|SEASON_ID|PLAYER_ID|PLAYER_NAME|NICKNAME|   TEAM_ID|TEAM_ABBREVIATION|         TEAM_NAME|   GAME_ID|          GAME_DATE|  MATCHUP| WL|  MIN|FGM| FGA|FG_PCT|FG3M|FG3A|FG3_PCT|FTM|FTA|FT_PCT|OREB|DREB|REB|AST|STL|BLK|TOV| PF|PTS|PLUS_MINUS|VIDEO_AVAILABLE|SEASON_YEAR|BLKA|PFD|NBA_FANTASY_PTS|DD2|TD3|WNBA_FANTASY_PTS|GP_RANK|W_RANK|L_RANK|W_PCT_RANK|MIN_RANK|FGM_RANK|FGA_RANK|FG_PCT_RANK|FG3M_RANK|FG3A_RANK|FG3_PCT_RANK|FTM_RANK|FTA_RANK|FT_PCT_RANK|OREB_RANK|DREB_RANK|REB_RANK|AST_RANK|TOV_RANK|STL_RANK|BLK_RANK|BLKA_RANK|PF_RANK|PFD_RANK|PTS_RANK|PLUS_MINUS_RANK|NBA_FANTASY_PTS_RANK|DD2_RANK|TD3_RANK|WNBA_FANTASY_PTS_RANK|AVAILABLE_FLAG|__index_level_0__|\n",
      "+---------+---------+-----------+--------+----------+-----------------+------------------+----------+-------------------+---------+---+-----+---+----+------+----+----+-------+---+---+------+----+----+---+---+---+---+---+---+---+----------+---------------+-----------+----+---+---------------+---+---+----------------+-------+------+------+----------+--------+--------+--------+-----------+---------+---------+------------+--------+--------+-----------+---------+---------+--------+--------+--------+--------+--------+---------+-------+--------+--------+---------------+--------------------+--------+--------+---------------------+--------------+-----------------+\n",
      "|     null|  1630644|Mac McClung|     Mac|1610612755|              PHI|Philadelphia 76ers|0022201217|2023-04-08 18:00:00|PHI @ BKN|  W|33.25|  8|17.0| 0.471| 3.0| 9.0|  0.333|  1|  3| 0.333| 3.0| 6.0|  9|  9|0.0|0.0|1.0|  3| 20|        29|           null|    2022-23| 0.0|3.0|           43.3|0.0|0.0|            41.0|    1.0|   1.0|   1.0|       1.0|  5264.0|  2711.0|  2392.0|    12663.0|   2120.0|   1087.0|      8680.0| 10510.0|  6555.0|    13452.0|   1492.0|   2868.0|  2052.0|   634.0|  8897.0| 11790.0|  7930.0|      1.0|17563.0|  4788.0|  3852.0|          177.0|              2358.0|  2163.0|   120.0|               2464.0|           1.0|                0|\n",
      "+---------+---------+-----------+--------+----------+-----------------+------------------+----------+-------------------+---------+---+-----+---+----+------+----+----+-------+---+---+------+----+----+---+---+---+---+---+---+---+----------+---------------+-----------+----+---+---------------+---+---+----------------+-------+------+------+----------+--------+--------+--------+-----------+---------+---------+------------+--------+--------+-----------+---------+---------+--------+--------+--------+--------+--------+---------+-------+--------+--------+---------------+--------------------+--------+--------+---------------------+--------------+-----------------+\n",
      "\n"
     ]
    },
    {
     "name": "stderr",
     "output_type": "stream",
     "text": [
      "                                                                                \r"
     ]
    }
   ],
   "source": [
    "full_dataset.createOrReplaceTempView(\"table_df\")\n",
    "spark.sql(\"\"\"SELECT * FROM table_df ORDER BY GAME_DATE DESC limit 1\"\"\").show()"
   ]
  },
  {
   "cell_type": "code",
   "execution_count": null,
   "id": "913ded94-cf5c-4b48-a9a7-d099ff6868ab",
   "metadata": {},
   "outputs": [],
   "source": [
    "schema = types.StructType([\n",
    "                         types.StructField(\"SEASON_ID\", types.StringType(), True),\n",
    "                         types.StructField(\"PLAYER_ID\", types.IntegerType(), True),\n",
    "                         types.StructField(\"PLAYER_NAME\", types.StringType(), True),\n",
    "                         types.StructField(\"NICKNAME\", types. StringType(), True),\n",
    "                         types.StructField(\"TEAM_ID\", types.IntegerType(), True),\n",
    "                         types.StructField(\"TEAM_ABBREVIATION\", types.StringType(), True),\n",
    "                         types.StructField(\"TEAM_NAME\", types. StringType(), True),\n",
    "                         types.StructField(\"GAME_ID\", types.StringType(), True),\n",
    "                         types.StructField(\"GAME_DATE\", types.StringType(), True),\n",
    "                         types.StructField(\"MATCHUP\", types.StringType(), True),\n",
    "                         types.StructField(\"WL\", types.StringType(), True),\n",
    "                         types.StructField(\"MIN\", types.IntegerType(), True),\n",
    "                         types.StructField(\"FGM\", types.IntegerType(), True),\n",
    "                         types.StructField(\"FGA\", types.FloatType(), True),\n",
    "                         types.StructField(\"FG_PCT\", types.FloatType(), True),\n",
    "                         types.StructField(\"FG3M\", types.IntegerType(), True),\n",
    "                         types.StructField(\"FG3A\", types.IntegerType(), True),\n",
    "                         types.StructField(\"FG3_PCT\", types.FloatType(), True),\n",
    "                         types.StructField(\"FTM\", types.IntegerType(), True),\n",
    "                         types.StructField(\"FTA\", types. IntegerType(), True),\n",
    "                         types.StructField(\"FT_PCT\", types.FloatType(), True),\n",
    "                         types.StructField(\"OREB\", types.IntegerType(), True),\n",
    "                         types.StructField(\"DREB\", types.IntegerType(), True),\n",
    "                         types.StructField(\"REB\", types.IntegerType(), True),\n",
    "                         types.StructField(\"AST\", types.IntegerType(), True),\n",
    "                         types.StructField(\"STL\", types.IntegerType(), True),\n",
    "                         types.StructField(\"BLK\", types.IntegerType(), True),\n",
    "                         types.StructField(\"TOV\", types.IntegerType(), True),\n",
    "                         types.StructField(\"PF\", types.IntegerType(), True),\n",
    "                         types.StructField(\"PTS\", types.IntegerType(), True),\n",
    "                         types.StructField(\"PLUS_MINUS\", types.IntegerType(), True),\n",
    "                         types.StructField(\"VIDEO_AVAILABLE\", types.IntegerType(), True)\n",
    "])"
   ]
  }
 ],
 "metadata": {
  "kernelspec": {
   "display_name": "Python 3 (ipykernel)",
   "language": "python",
   "name": "python3"
  },
  "language_info": {
   "codemirror_mode": {
    "name": "ipython",
    "version": 3
   },
   "file_extension": ".py",
   "mimetype": "text/x-python",
   "name": "python",
   "nbconvert_exporter": "python",
   "pygments_lexer": "ipython3",
   "version": "3.10.12"
  }
 },
 "nbformat": 4,
 "nbformat_minor": 5
}
