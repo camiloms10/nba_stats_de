{
 "cells": [
  {
   "cell_type": "code",
   "execution_count": 5,
   "id": "5afcb94f-65fd-4b5f-953f-8b4c9a9dbfbe",
   "metadata": {},
   "outputs": [],
   "source": [
    "import pyspark\n",
    "from pyspark.sql import SparkSession, types\n",
    "from pyspark.conf import Sparkconf\n",
    "from pyspark.context import SparkContext\n",
    "from pyspark.sql import functions as F\n",
    "from pyspark.sql.types import StructType, IntegerType, DateType, StructField, StringType, TimestampType\n",
    "import pyspark.pandas as ps\n",
    "import logging, traceback\n",
    "import requests\n",
    "import sys\n",
    "import pandas as pd\n",
    "from datetime import datetime, date\n",
    "from dateutil.relativedelta import relativedelta\n",
    "from dateutil.parser import parse"
   ]
  },
  {
   "cell_type": "code",
   "execution_count": 2,
   "id": "3dead5e3-6303-47cc-9edc-bd5fb97b5cb6",
   "metadata": {},
   "outputs": [
    {
     "data": {
      "text/plain": [
       "'/home/camiloms/spark/spark-3.3.3-bin-hadoop3/python/pyspark/__init__.py'"
      ]
     },
     "execution_count": 2,
     "metadata": {},
     "output_type": "execute_result"
    }
   ],
   "source": [
    "pyspark.__file__"
   ]
  },
  {
   "cell_type": "code",
   "execution_count": 3,
   "id": "db834a7a-03eb-4db3-923c-310e88de9e4a",
   "metadata": {},
   "outputs": [
    {
     "name": "stdout",
     "output_type": "stream",
     "text": [
      "23/09/06 23:35:56 WARN Utils: Your hostname, LAPTOP-C9HBU13M resolves to a loopback address: 127.0.1.1; using 172.21.82.95 instead (on interface eth0)\n",
      "23/09/06 23:35:56 WARN Utils: Set SPARK_LOCAL_IP if you need to bind to another address\n"
     ]
    },
    {
     "name": "stderr",
     "output_type": "stream",
     "text": [
      "Setting default log level to \"WARN\".\n",
      "To adjust logging level use sc.setLogLevel(newLevel). For SparkR, use setLogLevel(newLevel).\n"
     ]
    },
    {
     "name": "stdout",
     "output_type": "stream",
     "text": [
      "23/09/06 23:35:59 WARN NativeCodeLoader: Unable to load native-hadoop library for your platform... using builtin-java classes where applicable\n",
      "23/09/06 23:36:05 WARN Utils: Service 'SparkUI' could not bind on port 4040. Attempting port 4041.\n"
     ]
    }
   ],
   "source": [
    "spark = SparkSession.builder \\\n",
    "    .master(\"local[*]\") \\\n",
    "    .appName('test') \\\n",
    "    .getOrCreate()"
   ]
  },
  {
   "cell_type": "code",
   "execution_count": null,
   "id": "b08c6576-dfe3-4e11-8d2a-d5a5b015e168",
   "metadata": {},
   "outputs": [],
   "source": [
    "df_past = spark.read.parquet('gs://import-bucket-camiloms10/raw/players_game_stats_current_year.parquet')"
   ]
  },
  {
   "cell_type": "code",
   "execution_count": null,
   "id": "a31b6de9-9538-4669-8294-e91e896b7537",
   "metadata": {},
   "outputs": [],
   "source": [
    "#df = spark.read \\\n",
    "#    .option(\"header\", \"true\") \\\n",
    "#    .csv('Sample-Spreadsheet-5000-rows.csv')\n",
    "#\n",
    "#df.show()"
   ]
  },
  {
   "cell_type": "code",
   "execution_count": null,
   "id": "e5e18d10-e430-4f4e-b00c-ef5b8696f148",
   "metadata": {},
   "outputs": [],
   "source": [
    "#df.write.parquet('zones')"
   ]
  },
  {
   "cell_type": "code",
   "execution_count": null,
   "id": "46df3ca7",
   "metadata": {},
   "outputs": [],
   "source": [
    "one_yr_ago = datetime.now() - relativedelta(years=1)"
   ]
  },
  {
   "cell_type": "code",
   "execution_count": null,
   "id": "bd8a2bc6",
   "metadata": {},
   "outputs": [],
   "source": [
    "last_year_end = date(one_yr_ago.date().year, 12, 31)"
   ]
  },
  {
   "cell_type": "code",
   "execution_count": null,
   "id": "4e836a1c",
   "metadata": {},
   "outputs": [],
   "source": [
    "last_year_end"
   ]
  },
  {
   "cell_type": "code",
   "execution_count": null,
   "id": "584c032c",
   "metadata": {},
   "outputs": [],
   "source": [
    "#Getting the players table (Dimension table)\n",
    "\n",
    "players_table = pd.DataFrame(players.get_players())"
   ]
  },
  {
   "cell_type": "code",
   "execution_count": null,
   "id": "4af9b77b",
   "metadata": {},
   "outputs": [],
   "source": [
    "#Getting the teams table (Dimension table)\n",
    "\n",
    "teams_table = pd.DataFrame(teams.get_teams())"
   ]
  },
  {
   "cell_type": "code",
   "execution_count": null,
   "id": "be63b747",
   "metadata": {},
   "outputs": [],
   "source": [
    "players_list = players_table['id'].to_list()"
   ]
  },
  {
   "cell_type": "code",
   "execution_count": null,
   "id": "20d9c63b",
   "metadata": {},
   "outputs": [],
   "source": [
    "teams_list = teams_table['id'].to_list()"
   ]
  },
  {
   "cell_type": "code",
   "execution_count": null,
   "id": "ccdb9939",
   "metadata": {},
   "outputs": [],
   "source": [
    "players_list"
   ]
  },
  {
   "cell_type": "code",
   "execution_count": null,
   "id": "5a3894b7",
   "metadata": {},
   "outputs": [],
   "source": [
    "#Getting the regular season stats by team (all of history)\n",
    "\n",
    "appended_data = []\n",
    "\n",
    "for team in teams_list:\n",
    "    team_stats_by_year = teamyearbyyearstats.TeamYearByYearStats(team_id=team,season_type_all_star=SeasonTypeAllStar.regular,per_mode_simple=PerModeSimple.totals)\n",
    "    current_team_stats = team_stats_by_year.team_stats.get_data_frame()\n",
    "    appended_data.append(current_team_stats)\n",
    "\n",
    "team_stats_df = pd.concat(appended_data)"
   ]
  },
  {
   "cell_type": "code",
   "execution_count": null,
   "id": "b30e8f0a",
   "metadata": {},
   "outputs": [],
   "source": [
    "Seasons = list(team_stats_df['YEAR'].unique())"
   ]
  },
  {
   "cell_type": "code",
   "execution_count": null,
   "id": "4c57f933",
   "metadata": {},
   "outputs": [],
   "source": [
    "Seasons.sort()"
   ]
  },
  {
   "cell_type": "code",
   "execution_count": null,
   "id": "913ded94-cf5c-4b48-a9a7-d099ff6868ab",
   "metadata": {},
   "outputs": [],
   "source": [
    "schema = types.StructType([\n",
    "                         types.StructField(\"SEASON_ID\", types.StringType(), True),\n",
    "                         types.StructField(\"PLAYER_ID\", types.IntegerType(), True),\n",
    "                         types.StructField(\"PLAYER_NAME\", types.StringType(), True),\n",
    "                         types.StructField(\"NICKNAME\", types. StringType(), True),\n",
    "                         types.StructField(\"TEAM_ID\", types.IntegerType(), True),\n",
    "                         types.StructField(\"TEAM_ABBREVIATION\", types.StringType(), True),\n",
    "                         types.StructField(\"TEAM_NAME\", types. StringType(), True),\n",
    "                         types.StructField(\"GAME_ID\", types.StringType(), True),\n",
    "                         types.StructField(\"GAME_DATE\", types.StringType(), True),\n",
    "                         types.StructField(\"MATCHUP\", types.StringType(), True),\n",
    "                         types.StructField(\"WL\", types.StringType(), True),\n",
    "                         types.StructField(\"MIN\", types.IntegerType(), True),\n",
    "                         types.StructField(\"FGM\", types.IntegerType(), True),\n",
    "                         types.StructField(\"FGA\", types.FloatType(), True),\n",
    "                         types.StructField(\"FG_PCT\", types.FloatType(), True),\n",
    "                         types.StructField(\"FG3M\", types.IntegerType(), True),\n",
    "                         types.StructField(\"FG3A\", types.IntegerType(), True),\n",
    "                         types.StructField(\"FG3_PCT\", types.FloatType(), True),\n",
    "                         types.StructField(\"FTM\", types.IntegerType(), True),\n",
    "                         types.StructField(\"FTA\", types. IntegerType(), True),\n",
    "                         types.StructField(\"FT_PCT\", types.FloatType(), True),\n",
    "                         types.StructField(\"OREB\", types.IntegerType(), True),\n",
    "                         types.StructField(\"DREB\", types.IntegerType(), True),\n",
    "                         types.StructField(\"REB\", types.IntegerType(), True),\n",
    "                         types.StructField(\"AST\", types.IntegerType(), True),\n",
    "                         types.StructField(\"STL\", types.IntegerType(), True),\n",
    "                         types.StructField(\"BLK\", types.IntegerType(), True),\n",
    "                         types.StructField(\"TOV\", types.IntegerType(), True),\n",
    "                         types.StructField(\"PF\", types.IntegerType(), True),\n",
    "                         types.StructField(\"PTS\", types.IntegerType(), True),\n",
    "                         types.StructField(\"PLUS_MINUS\", types.IntegerType(), True),\n",
    "                         types.StructField(\"VIDEO_AVAILABLE\", types.IntegerType(), True)\n",
    "])"
   ]
  },
  {
   "cell_type": "code",
   "execution_count": null,
   "id": "2d6a5768",
   "metadata": {},
   "outputs": [],
   "source": [
    "player_history_data = pd.DataFrame()\n",
    "\n",
    "for season in Seasons:\n",
    "    try:\n",
    "        playerlogdata=playergamelogs.PlayerGameLogs(season_nullable=season)\n",
    "        playerlogdata=playerlogdata.player_game_logs.get_data_frame()\n",
    "        playerlogdata=pd.DataFrame(playerlogdata)\n",
    "        playerlogdata[[\"FTA\",\"REB\",\"AST\",\"PF\"]]= playerlogdata[[\"FTA\",\"REB\",\"AST\",\"PF\"]].fillna(0).astype(int)\n",
    "        playerlogdata.iteritems = playerlogdata.items\n",
    "        print(playerlogdata)\n",
    "        \n",
    "        #Create PySpark DataFrame from Pandas\n",
    "        sparkDF=spark.createDataFrame(playerlogdata, schema= schema).show()\n",
    "        \n",
    "        #player_history_data[['GAME_DATE']] = player_history_data[['GAME_DATE']].apply(pd.to_datetime)\n",
    "        print(season)\n",
    "    except as e:\n",
    "        print('skipped'+season+'because of'+e)"
   ]
  },
  {
   "cell_type": "code",
   "execution_count": null,
   "id": "caf581f3",
   "metadata": {},
   "outputs": [],
   "source": [
    "player_history_data "
   ]
  },
  {
   "cell_type": "code",
   "execution_count": null,
   "id": "3c7b764f",
   "metadata": {},
   "outputs": [],
   "source": [
    "player_history_data = player_history_data.loc[(player_history_data['GAME_DATE'].dt.date <= last_year_end)]"
   ]
  },
  {
   "cell_type": "code",
   "execution_count": null,
   "id": "1a29d34a",
   "metadata": {},
   "outputs": [],
   "source": [
    "player_history_data"
   ]
  }
 ],
 "metadata": {
  "kernelspec": {
   "display_name": "Python 3 (ipykernel)",
   "language": "python",
   "name": "python3"
  },
  "language_info": {
   "codemirror_mode": {
    "name": "ipython",
    "version": 3
   },
   "file_extension": ".py",
   "mimetype": "text/x-python",
   "name": "python",
   "nbconvert_exporter": "python",
   "pygments_lexer": "ipython3",
   "version": "3.10.12"
  }
 },
 "nbformat": 4,
 "nbformat_minor": 5
}
